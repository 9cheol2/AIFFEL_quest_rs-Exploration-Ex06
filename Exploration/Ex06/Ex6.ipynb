{
  "nbformat": 4,
  "nbformat_minor": 0,
  "metadata": {
    "colab": {
      "provenance": [],
      "gpuType": "T4"
    },
    "kernelspec": {
      "name": "python3",
      "display_name": "Python 3"
    },
    "language_info": {
      "name": "python"
    },
    "accelerator": "GPU"
  },
  "cells": [
    {
      "cell_type": "code",
      "source": [
        "!pip install --upgrade summa\n",
        "!pip install --upgrade nltk #3.9.1"
      ],
      "metadata": {
        "colab": {
          "base_uri": "https://localhost:8080/"
        },
        "id": "kxF0I2RonIvY",
        "outputId": "581cd393-712f-4edb-ba03-c578d8d5b088"
      },
      "execution_count": 1,
      "outputs": [
        {
          "output_type": "stream",
          "name": "stdout",
          "text": [
            "Collecting summa\n",
            "  Using cached summa-1.2.0-py3-none-any.whl\n",
            "Requirement already satisfied: scipy>=0.19 in /usr/local/lib/python3.11/dist-packages (from summa) (1.16.1)\n",
            "Requirement already satisfied: numpy<2.6,>=1.25.2 in /usr/local/lib/python3.11/dist-packages (from scipy>=0.19->summa) (2.0.2)\n",
            "Installing collected packages: summa\n",
            "Successfully installed summa-1.2.0\n",
            "Requirement already satisfied: nltk in /usr/local/lib/python3.11/dist-packages (3.9.1)\n",
            "Requirement already satisfied: click in /usr/local/lib/python3.11/dist-packages (from nltk) (8.2.1)\n",
            "Requirement already satisfied: joblib in /usr/local/lib/python3.11/dist-packages (from nltk) (1.5.1)\n",
            "Requirement already satisfied: regex>=2021.8.3 in /usr/local/lib/python3.11/dist-packages (from nltk) (2024.11.6)\n",
            "Requirement already satisfied: tqdm in /usr/local/lib/python3.11/dist-packages (from nltk) (4.67.1)\n"
          ]
        }
      ]
    },
    {
      "cell_type": "code",
      "source": [
        "from importlib.metadata import version\n",
        "import nltk\n",
        "import torch\n",
        "import summa\n",
        "import pandas as pd\n",
        "\n",
        "print(nltk.__version__)\n",
        "print(torch.__version__)\n",
        "print(pd.__version__)\n",
        "print(version('summa'))"
      ],
      "metadata": {
        "colab": {
          "base_uri": "https://localhost:8080/"
        },
        "id": "7O9LUlEwnM1j",
        "outputId": "a372540b-4492-4177-ec9e-07062b6bde6b"
      },
      "execution_count": 2,
      "outputs": [
        {
          "output_type": "stream",
          "name": "stdout",
          "text": [
            "3.9.1\n",
            "2.6.0+cu124\n",
            "2.2.2\n",
            "1.2.0\n"
          ]
        }
      ]
    },
    {
      "cell_type": "code",
      "execution_count": 3,
      "metadata": {
        "colab": {
          "base_uri": "https://localhost:8080/"
        },
        "id": "cOKnREUSmzJI",
        "outputId": "d6c511bd-ade5-46f1-a78b-6c73f951deb8"
      },
      "outputs": [
        {
          "output_type": "stream",
          "name": "stdout",
          "text": [
            "Index(['headlines', 'text'], dtype='object')\n",
            "                                           headlines  \\\n",
            "0  upGrad learner switches to career in ML & Al w...   \n",
            "1  Delhi techie wins free food from Swiggy for on...   \n",
            "2  New Zealand end Rohit Sharma-led India's 12-ma...   \n",
            "3  Aegon life iTerm insurance plan helps customer...   \n",
            "4  Have known Hirani for yrs, what if MeToo claim...   \n",
            "\n",
            "                                                text  \n",
            "0  Saurav Kant, an alumnus of upGrad and IIIT-B's...  \n",
            "1  Kunal Shah's credit card bill payment platform...  \n",
            "2  New Zealand defeated India by 8 wickets in the...  \n",
            "3  With Aegon Life iTerm Insurance plan, customer...  \n",
            "4  Speaking about the sexual harassment allegatio...  \n"
          ]
        }
      ],
      "source": [
        "import pandas as pd\n",
        "import urllib.request\n",
        "\n",
        "urllib.request.urlretrieve(\n",
        "    \"https://raw.githubusercontent.com/sunnysai12345/News_Summary/master/news_summary_more.csv\",\n",
        "    filename=\"news_summary_more.csv\"\n",
        ")\n",
        "\n",
        "data = pd.read_csv('news_summary_more.csv', encoding='iso-8859-1')\n",
        "\n",
        "print(data.columns)\n",
        "print(data.head())\n"
      ]
    },
    {
      "cell_type": "code",
      "source": [
        "data.duplicated(subset='text').sum()"
      ],
      "metadata": {
        "colab": {
          "base_uri": "https://localhost:8080/"
        },
        "id": "dHcE8d4KnYpV",
        "outputId": "05065830-b3dc-4b09-e137-e40846e5270a"
      },
      "execution_count": 4,
      "outputs": [
        {
          "output_type": "execute_result",
          "data": {
            "text/plain": [
              "np.int64(41)"
            ]
          },
          "metadata": {},
          "execution_count": 4
        }
      ]
    },
    {
      "cell_type": "code",
      "source": [
        "data.duplicated(subset='headlines').sum()"
      ],
      "metadata": {
        "colab": {
          "base_uri": "https://localhost:8080/"
        },
        "id": "T-wtyW0GoAi8",
        "outputId": "3cccd40a-759f-415b-cc62-13c73665850c"
      },
      "execution_count": 5,
      "outputs": [
        {
          "output_type": "execute_result",
          "data": {
            "text/plain": [
              "np.int64(121)"
            ]
          },
          "metadata": {},
          "execution_count": 5
        }
      ]
    },
    {
      "cell_type": "code",
      "source": [
        "data.drop_duplicates(subset='text', inplace=True)"
      ],
      "metadata": {
        "id": "yro7YkneoJGE"
      },
      "execution_count": 6,
      "outputs": []
    },
    {
      "cell_type": "code",
      "source": [
        "data.isnull().sum()"
      ],
      "metadata": {
        "colab": {
          "base_uri": "https://localhost:8080/",
          "height": 147
        },
        "id": "NNrtyN_joLY8",
        "outputId": "0893910e-6e6b-4373-ac6e-576c1afc5f63"
      },
      "execution_count": 7,
      "outputs": [
        {
          "output_type": "execute_result",
          "data": {
            "text/plain": [
              "headlines    0\n",
              "text         0\n",
              "dtype: int64"
            ],
            "text/html": [
              "<div>\n",
              "<style scoped>\n",
              "    .dataframe tbody tr th:only-of-type {\n",
              "        vertical-align: middle;\n",
              "    }\n",
              "\n",
              "    .dataframe tbody tr th {\n",
              "        vertical-align: top;\n",
              "    }\n",
              "\n",
              "    .dataframe thead th {\n",
              "        text-align: right;\n",
              "    }\n",
              "</style>\n",
              "<table border=\"1\" class=\"dataframe\">\n",
              "  <thead>\n",
              "    <tr style=\"text-align: right;\">\n",
              "      <th></th>\n",
              "      <th>0</th>\n",
              "    </tr>\n",
              "  </thead>\n",
              "  <tbody>\n",
              "    <tr>\n",
              "      <th>headlines</th>\n",
              "      <td>0</td>\n",
              "    </tr>\n",
              "    <tr>\n",
              "      <th>text</th>\n",
              "      <td>0</td>\n",
              "    </tr>\n",
              "  </tbody>\n",
              "</table>\n",
              "</div><br><label><b>dtype:</b> int64</label>"
            ]
          },
          "metadata": {},
          "execution_count": 7
        }
      ]
    },
    {
      "cell_type": "code",
      "source": [
        "contractions = {\"ain't\": \"is not\", \"aren't\": \"are not\",\"can't\": \"cannot\", \"'cause\": \"because\", \"could've\": \"could have\", \"couldn't\": \"could not\",\n",
        "                           \"didn't\": \"did not\",  \"doesn't\": \"does not\", \"don't\": \"do not\", \"hadn't\": \"had not\", \"hasn't\": \"has not\", \"haven't\": \"have not\",\n",
        "                           \"he'd\": \"he would\",\"he'll\": \"he will\", \"he's\": \"he is\", \"how'd\": \"how did\", \"how'd'y\": \"how do you\", \"how'll\": \"how will\", \"how's\": \"how is\",\n",
        "                           \"I'd\": \"I would\", \"I'd've\": \"I would have\", \"I'll\": \"I will\", \"I'll've\": \"I will have\",\"I'm\": \"I am\", \"I've\": \"I have\", \"i'd\": \"i would\",\n",
        "                           \"i'd've\": \"i would have\", \"i'll\": \"i will\",  \"i'll've\": \"i will have\",\"i'm\": \"i am\", \"i've\": \"i have\", \"isn't\": \"is not\", \"it'd\": \"it would\",\n",
        "                           \"it'd've\": \"it would have\", \"it'll\": \"it will\", \"it'll've\": \"it will have\",\"it's\": \"it is\", \"let's\": \"let us\", \"ma'am\": \"madam\",\n",
        "                           \"mayn't\": \"may not\", \"might've\": \"might have\",\"mightn't\": \"might not\",\"mightn't've\": \"might not have\", \"must've\": \"must have\",\n",
        "                           \"mustn't\": \"must not\", \"mustn't've\": \"must not have\", \"needn't\": \"need not\", \"needn't've\": \"need not have\",\"o'clock\": \"of the clock\",\n",
        "                           \"oughtn't\": \"ought not\", \"oughtn't've\": \"ought not have\", \"shan't\": \"shall not\", \"sha'n't\": \"shall not\", \"shan't've\": \"shall not have\",\n",
        "                           \"she'd\": \"she would\", \"she'd've\": \"she would have\", \"she'll\": \"she will\", \"she'll've\": \"she will have\", \"she's\": \"she is\",\n",
        "                           \"should've\": \"should have\", \"shouldn't\": \"should not\", \"shouldn't've\": \"should not have\", \"so've\": \"so have\",\"so's\": \"so as\",\n",
        "                           \"this's\": \"this is\",\"that'd\": \"that would\", \"that'd've\": \"that would have\", \"that's\": \"that is\", \"there'd\": \"there would\",\n",
        "                           \"there'd've\": \"there would have\", \"there's\": \"there is\", \"here's\": \"here is\",\"they'd\": \"they would\", \"they'd've\": \"they would have\",\n",
        "                           \"they'll\": \"they will\", \"they'll've\": \"they will have\", \"they're\": \"they are\", \"they've\": \"they have\", \"to've\": \"to have\",\n",
        "                           \"wasn't\": \"was not\", \"we'd\": \"we would\", \"we'd've\": \"we would have\", \"we'll\": \"we will\", \"we'll've\": \"we will have\", \"we're\": \"we are\",\n",
        "                           \"we've\": \"we have\", \"weren't\": \"were not\", \"what'll\": \"what will\", \"what'll've\": \"what will have\", \"what're\": \"what are\",\n",
        "                           \"what's\": \"what is\", \"what've\": \"what have\", \"when's\": \"when is\", \"when've\": \"when have\", \"where'd\": \"where did\", \"where's\": \"where is\",\n",
        "                           \"where've\": \"where have\", \"who'll\": \"who will\", \"who'll've\": \"who will have\", \"who's\": \"who is\", \"who've\": \"who have\",\n",
        "                           \"why's\": \"why is\", \"why've\": \"why have\", \"will've\": \"will have\", \"won't\": \"will not\", \"won't've\": \"will not have\",\n",
        "                           \"would've\": \"would have\", \"wouldn't\": \"would not\", \"wouldn't've\": \"would not have\", \"y'all\": \"you all\",\n",
        "                           \"y'all'd\": \"you all would\",\"y'all'd've\": \"you all would have\",\"y'all're\": \"you all are\",\"y'all've\": \"you all have\",\n",
        "                           \"you'd\": \"you would\", \"you'd've\": \"you would have\", \"you'll\": \"you will\", \"you'll've\": \"you will have\",\n",
        "                           \"you're\": \"you are\", \"you've\": \"you have\"}"
      ],
      "metadata": {
        "id": "JV1vZDbpoRw5"
      },
      "execution_count": 8,
      "outputs": []
    },
    {
      "cell_type": "code",
      "source": [
        "import re\n",
        "from bs4 import BeautifulSoup\n",
        "import nltk\n",
        "nltk.download('stopwords')\n",
        "from nltk.corpus import stopwords\n",
        "\n",
        "def preprocess_sentence(sentence, remove_stopwords=True):\n",
        "  sentence=sentence.lower()\n",
        "  sentence=BeautifulSoup(sentence, \"lxml\").text\n",
        "  sentence = re.sub(r'\\([^)]*\\)', '', sentence)\n",
        "  sentence = re.sub('\"', '', sentence)\n",
        "  sentence = ' '.join([contractions[t] if t in contractions else t for t in sentence.split(\" \")])\n",
        "  sentence = re.sub(r\"'s\\b\", \"\", sentence)  # убираем 's\n",
        "  sentence = re.sub(\"[^a-zA-Z]\", \" \", sentence)  # оставляем только буквы\n",
        "  sentence = re.sub('[m]{2,}', 'mm', sentence)\n",
        "\n",
        "  if remove_stopwords:\n",
        "    tokens=' '.join(word for word in sentence.split() if word not in stopwords.words('english') and len(word)>1)\n",
        "  else:\n",
        "    tokens=' '.join(word for word in sentence.split() if len(word)>1)\n",
        "\n",
        "  return tokens\n"
      ],
      "metadata": {
        "colab": {
          "base_uri": "https://localhost:8080/"
        },
        "id": "QfdPMDG1ocON",
        "outputId": "daf64f10-c4a1-493d-d23e-389ea14783b1"
      },
      "execution_count": 9,
      "outputs": [
        {
          "output_type": "stream",
          "name": "stderr",
          "text": [
            "[nltk_data] Downloading package stopwords to /root/nltk_data...\n",
            "[nltk_data]   Unzipping corpora/stopwords.zip.\n"
          ]
        }
      ]
    },
    {
      "cell_type": "code",
      "source": [
        "data['text']=data['text'].apply(lambda x: preprocess_sentence(x))\n",
        "data['headlines']=data['headlines'].apply(lambda x: preprocess_sentence(x, remove_stopwords=False))"
      ],
      "metadata": {
        "id": "2lnP-zQCpchC"
      },
      "execution_count": 10,
      "outputs": []
    },
    {
      "cell_type": "code",
      "source": [
        "import matplotlib.pyplot as plt\n",
        "text_len=[len(s.split()) for s in data['text']]\n",
        "headlines_len=[len(s.split()) for s in data['headlines']]\n",
        "\n",
        "plt.subplot(1,2,1)\n",
        "plt.boxplot(text_len)\n",
        "plt.title('Text length')\n",
        "\n",
        "plt.subplot(1,2,2)\n",
        "plt.boxplot(headlines_len)\n",
        "plt.title('Headlines length')"
      ],
      "metadata": {
        "colab": {
          "base_uri": "https://localhost:8080/",
          "height": 470
        },
        "id": "MiZR2O7JqY8R",
        "outputId": "76517d7e-bd23-465d-d46f-de6ee25cc1c5"
      },
      "execution_count": 11,
      "outputs": [
        {
          "output_type": "execute_result",
          "data": {
            "text/plain": [
              "Text(0.5, 1.0, 'Headlines length')"
            ]
          },
          "metadata": {},
          "execution_count": 11
        },
        {
          "output_type": "display_data",
          "data": {
            "text/plain": [
              "<Figure size 640x480 with 2 Axes>"
            ],
            "image/png": "[encoded data removed]"
          },
          "metadata": {}
        }
      ]
    },
    {
      "cell_type": "code",
      "source": [
        "import numpy as np\n",
        "plt.subplot(1,2,1)\n",
        "plt.hist(text_len, weights=np.ones_like(text_len) / len(text_len))\n",
        "plt.title('Text length')\n",
        "\n",
        "plt.subplot(1,2,2)\n",
        "plt.hist(headlines_len, weights=np.ones_like(headlines_len)/len(headlines_len))\n",
        "plt.title('Headlines length')"
      ],
      "metadata": {
        "colab": {
          "base_uri": "https://localhost:8080/",
          "height": 470
        },
        "id": "x4tcwj4brP8J",
        "outputId": "de8fa6e7-61be-42dc-9dea-01bfe6f2d9ed"
      },
      "execution_count": 12,
      "outputs": [
        {
          "output_type": "execute_result",
          "data": {
            "text/plain": [
              "Text(0.5, 1.0, 'Headlines length')"
            ]
          },
          "metadata": {},
          "execution_count": 12
        },
        {
          "output_type": "display_data",
          "data": {
            "text/plain": [
              "<Figure size 640x480 with 2 Axes>"
            ],
            "image/png": "[encoded data removed]"
          },
          "metadata": {}
        }
      ]
    },
    {
      "cell_type": "code",
      "source": [
        "text_max_len=100\n",
        "headlines_max_len=18\n",
        "\n",
        "data = data[data['text'].apply(lambda x: len(x.split()) <= text_max_len)]\n",
        "data = data[data['headlines'].apply(lambda x: len(x.split()) <= headlines_max_len)]\n",
        "\n",
        "print('전체 샘플수 :', len(data))\n",
        "\n"
      ],
      "metadata": {
        "colab": {
          "base_uri": "https://localhost:8080/"
        },
        "id": "jZvzl64HrvBX",
        "outputId": "73e89c65-2084-40b4-ece2-314421bb0d80"
      },
      "execution_count": 13,
      "outputs": [
        {
          "output_type": "stream",
          "name": "stdout",
          "text": [
            "전체 샘플수 : 98360\n"
          ]
        }
      ]
    },
    {
      "cell_type": "code",
      "source": [
        "data['decoder_input']=data['headlines'].apply(lambda x: 'sostoken '+x)\n",
        "data['decoder_target']=data['headlines'].apply(lambda x: x+' eostoken')"
      ],
      "metadata": {
        "id": "V7tAnO7HtNy2"
      },
      "execution_count": 14,
      "outputs": []
    },
    {
      "cell_type": "code",
      "source": [
        "encoder_input = np.array(data['text'])\n",
        "decoder_input = np.array(data['decoder_input'])\n",
        "decoder_target = np.array(data['decoder_target'])\n"
      ],
      "metadata": {
        "id": "VcC1oeS42XAg"
      },
      "execution_count": 15,
      "outputs": []
    },
    {
      "cell_type": "code",
      "source": [
        "indices = np.arange(encoder_input.shape[0])\n",
        "np.random.shuffle(indices)\n",
        "print(indices)"
      ],
      "metadata": {
        "colab": {
          "base_uri": "https://localhost:8080/"
        },
        "id": "-U4FBXge5JvZ",
        "outputId": "da00e473-851a-42ea-9a8d-e62a0a2c33f3"
      },
      "execution_count": 16,
      "outputs": [
        {
          "output_type": "stream",
          "name": "stdout",
          "text": [
            "[90048 22330 51687 ... 96919 24675 44937]\n"
          ]
        }
      ]
    },
    {
      "cell_type": "code",
      "source": [
        "encoder_input = encoder_input[indices]\n",
        "decoder_input = decoder_input[indices]\n",
        "decoder_target = decoder_target[indices]\n"
      ],
      "metadata": {
        "id": "6B9bcjG35PMz"
      },
      "execution_count": 17,
      "outputs": []
    },
    {
      "cell_type": "code",
      "source": [
        "n_of_val = int(len(encoder_input)*0.2)\n",
        "print('테스트 데이터의 수 :', n_of_val)"
      ],
      "metadata": {
        "colab": {
          "base_uri": "https://localhost:8080/"
        },
        "id": "ybZY22525SAz",
        "outputId": "bc9b6d7c-ea05-4fb5-df51-24cdfd94c6cd"
      },
      "execution_count": 18,
      "outputs": [
        {
          "output_type": "stream",
          "name": "stdout",
          "text": [
            "테스트 데이터의 수 : 19672\n"
          ]
        }
      ]
    },
    {
      "cell_type": "code",
      "source": [
        "encoder_input_train = encoder_input[:-n_of_val]\n",
        "decoder_input_train = decoder_input[:-n_of_val]\n",
        "decoder_target_train = decoder_target[:-n_of_val]\n",
        "\n",
        "encoder_input_test = encoder_input[-n_of_val:]\n",
        "decoder_input_test = decoder_input[-n_of_val:]\n",
        "decoder_target_test = decoder_target[-n_of_val:]\n",
        "\n",
        "print('훈련 데이터의 개수 :', len(encoder_input_train))\n",
        "print('훈련 레이블의 개수 :', len(decoder_input_train))\n",
        "print('테스트 데이터의 개수 :', len(encoder_input_test))\n",
        "print('테스트 레이블의 개수 :', len(decoder_input_test))"
      ],
      "metadata": {
        "colab": {
          "base_uri": "https://localhost:8080/"
        },
        "id": "S2UwKw9_5cUo",
        "outputId": "2ec96813-5440-4195-bbec-39f369c53084"
      },
      "execution_count": 19,
      "outputs": [
        {
          "output_type": "stream",
          "name": "stdout",
          "text": [
            "훈련 데이터의 개수 : 78688\n",
            "훈련 레이블의 개수 : 78688\n",
            "테스트 데이터의 개수 : 19672\n",
            "테스트 레이블의 개수 : 19672\n"
          ]
        }
      ]
    },
    {
      "cell_type": "code",
      "source": [
        "from collections import Counter\n",
        "def src_tokenizer(text): # 토크나이저 정의\n",
        "    text = text.lower()  # 소문자로 변환\n",
        "    text = re.sub(r\"[^a-zA-Z0-9]+\", \" \", text)  # 특수문자 제거\n",
        "    return text.split()  # 공백 기준 토큰화\n",
        "\n",
        "def build_vocab(texts):\n",
        "    vocab = {\"<PAD>\": 0, \"<UNK>\": 1}  # 패딩과 UNK 토큰 추가\n",
        "    word_counter = Counter()\n",
        "\n",
        "    for text in texts:\n",
        "        word_counter.update(src_tokenizer(text))  # 단어 빈도수 계산\n",
        "\n",
        "    # 단어 집합 생성 (빈도가 높은 순서대로)\n",
        "    for word, _ in word_counter.most_common():\n",
        "        if word not in vocab:\n",
        "            vocab[word] = len(vocab)\n",
        "\n",
        "    return vocab\n",
        "\n",
        "src_vocab = build_vocab(encoder_input_train) # 입력된 데이터로부터 단어 집합 생성"
      ],
      "metadata": {
        "id": "hvi5mzSV5gsK"
      },
      "execution_count": 20,
      "outputs": []
    },
    {
      "cell_type": "code",
      "source": [
        "def text_to_sequence(texts, vocab):\n",
        "    sequences = []\n",
        "    for text in texts:\n",
        "        sequence = [vocab.get(word, vocab[\"<UNK>\"]) for word in src_tokenizer(text)]\n",
        "        sequences.append(sequence)\n",
        "    return sequences\n",
        "\n",
        "encoder_input_train_seq = text_to_sequence(encoder_input_train, src_vocab)\n",
        "encoder_input_test_seq = text_to_sequence(encoder_input_test, src_vocab)\n",
        "\n",
        "\n",
        "print(encoder_input_train_seq[:3])\n",
        "print(encoder_input_test_seq[:3])"
      ],
      "metadata": {
        "colab": {
          "base_uri": "https://localhost:8080/"
        },
        "id": "cfo_Jb6P67jw",
        "outputId": "8191d9a9-ffbd-462c-b0e1-5cfaaed3c2d3"
      },
      "execution_count": 21,
      "outputs": [
        {
          "output_type": "stream",
          "name": "stdout",
          "text": [
            "[[5564, 1092, 5565, 3881, 1355, 29623, 29624, 305, 570, 8144, 8, 710, 414, 5565, 2145, 3881, 20, 62, 10711, 5565, 1355, 29624, 524, 836, 24, 675, 129, 5444, 378, 529, 414, 307, 5565, 3881, 3863], [4, 14, 161, 2723, 434, 462, 31, 2394, 2058, 4845, 209, 603, 6479, 1225, 78, 1544, 844, 161, 570, 188, 78, 545, 2280, 1258, 21, 114, 3882, 10, 2, 161, 13347, 1935, 414, 30, 4], [80, 2010, 142, 76, 628, 9668, 985, 1743, 4488, 26331, 163, 12934, 2482, 80, 166, 3278, 7168, 6197, 12935, 8979, 34888, 26332, 29625, 34889, 424, 2989, 4488, 163, 2010, 2, 191, 8, 492, 52, 2128, 7566, 12934]]\n",
            "[[6364, 17, 27540, 25018, 66, 6611, 16177, 5992, 1531, 96, 9059, 8092, 81, 2250, 697, 248, 732, 1008, 1044, 200, 45405, 22, 63, 213, 61, 82, 24, 9059, 8092, 3029, 697, 200, 1359, 23396], [231, 85, 359, 9, 1523, 96, 1, 1502, 1293, 18706, 17781, 378, 529, 3444, 2393, 3709, 6646, 3709, 24641, 5812, 3188, 13608, 513, 1468, 16722, 3477, 327, 1892, 3709, 6060, 1, 153, 3444, 2393, 378, 1293, 293, 96, 259], [1997, 2915, 2870, 2820, 2, 2876, 8103, 2821, 11064, 1253, 13, 397, 171, 86, 24, 2820, 2, 29608, 255, 40, 442, 2019, 6741, 7528, 11145, 3, 86, 24, 2876, 25, 9716, 704, 1432, 8804, 7, 815, 11734, 1040, 5]]\n"
          ]
        }
      ]
    },
    {
      "cell_type": "code",
      "source": [
        "def tar_tokenizer(text):\n",
        "    text = text.lower()  # 소문자로 변환\n",
        "    text = re.sub(r\"[^a-zA-Z0-9]+\", \" \", text)  # 특수문자 제거\n",
        "    return text.split()  # 공백 기준 토큰화\n",
        "\n",
        "tar_vocab = build_vocab(decoder_input_train)\n"
      ],
      "metadata": {
        "id": "LdHWNePP7XSN"
      },
      "execution_count": 22,
      "outputs": []
    },
    {
      "cell_type": "code",
      "source": [
        "\n",
        "tar_vocab = build_vocab(decoder_input_train + decoder_target_train)\n",
        "\n",
        "# 텍스트 시퀀스를 정수 시퀀스로 변환\n",
        "decoder_input_train_seq = text_to_sequence(decoder_input_train, tar_vocab)\n",
        "decoder_target_train_seq = text_to_sequence(decoder_target_train, tar_vocab)\n",
        "decoder_input_test_seq = text_to_sequence(decoder_input_test, tar_vocab)\n",
        "decoder_target_test_seq = text_to_sequence(decoder_target_test, tar_vocab)\n",
        "\n",
        "# 잘 변환되었는지 확인\n",
        "print('input')\n",
        "print('input ',decoder_input_train_seq[:5])\n",
        "print('target')\n",
        "print('decoder ',decoder_target_train_seq[:5])"
      ],
      "metadata": {
        "colab": {
          "base_uri": "https://localhost:8080/"
        },
        "id": "h52U4aRd7joe",
        "outputId": "03f1c3c6-cfd8-408f-c248-621c2a7a16d1"
      },
      "execution_count": 23,
      "outputs": [
        {
          "output_type": "stream",
          "name": "stdout",
          "text": [
            "input\n",
            "input  [[2, 2479, 203, 735, 597, 323, 294, 8386, 1513, 2479], [2, 81, 24, 130, 424, 303, 136, 17, 1283, 5743, 209, 5, 580], [2, 1312, 930, 4173, 6, 4100, 15756, 197, 5, 1904], [2, 626, 7, 547, 2245, 18, 1788, 7, 15757, 51], [2, 190, 271, 293, 1202, 4, 2562, 4338, 17, 4649, 5483]]\n",
            "target\n",
            "decoder  [[2479, 203, 735, 597, 323, 294, 8386, 1513, 2479, 3], [81, 24, 130, 424, 303, 136, 17, 1283, 5743, 209, 5, 580, 3], [1312, 930, 4173, 6, 4100, 15756, 197, 5, 1904, 3], [626, 7, 547, 2245, 18, 1788, 7, 15757, 51, 3], [190, 271, 293, 1202, 4, 2562, 4338, 17, 4649, 5483, 3]]\n"
          ]
        }
      ]
    },
    {
      "cell_type": "code",
      "source": [
        "from torch.nn.utils.rnn import pad_sequence\n",
        "\n",
        "def convert_to_tensor(sequences):\n",
        "    return [torch.tensor(seq, dtype=torch.long) for seq in sequences]\n",
        "\n",
        "def pad_sequences_pytorch(sequences, maxlen, padding_value=0):\n",
        "    sequences = convert_to_tensor(sequences)  # 리스트를 텐서로 변환\n",
        "    padded_seqs = pad_sequence(sequences, batch_first=True, padding_value=padding_value)  # 패딩 적용\n",
        "    return padded_seqs[:, :maxlen]  # maxlen 길이로 자르기 (최대 길이 초과 방지)\n",
        "\n",
        "# 패딩 적용\n",
        "encoder_input_train = pad_sequences_pytorch(encoder_input_train_seq, maxlen=text_max_len)\n",
        "encoder_input_test = pad_sequences_pytorch(encoder_input_test_seq, maxlen=text_max_len)\n",
        "decoder_input_train = pad_sequences_pytorch(decoder_input_train_seq, maxlen=headlines_max_len)\n",
        "decoder_target_train = pad_sequences_pytorch(decoder_target_train_seq, maxlen=headlines_max_len)\n",
        "decoder_input_test = pad_sequences_pytorch(decoder_input_test_seq, maxlen=headlines_max_len)\n",
        "decoder_target_test = pad_sequences_pytorch(decoder_target_test_seq, maxlen=headlines_max_len)\n"
      ],
      "metadata": {
        "id": "rxjIXB1R7qft"
      },
      "execution_count": 24,
      "outputs": []
    },
    {
      "cell_type": "code",
      "source": [
        "import torch.nn as nn\n",
        "import torch.nn.functional as F\n",
        "from torch.utils.data import DataLoader, TensorDataset\n",
        "\n",
        "device = torch.device(\"cuda\" if torch.cuda.is_available() else \"cpu\")\n",
        "\n",
        "class Encoder(nn.Module):\n",
        "    def __init__(self, vocab_size, embed_size, hidden_size, pad_idx, num_layers=2, dropout=0.3):\n",
        "        super().__init__()\n",
        "        self.embedding = nn.Embedding(vocab_size, embed_size, padding_idx=pad_idx)\n",
        "        self.emb_drop = nn.Dropout(dropout)\n",
        "        self.lstm = nn.LSTM(embed_size, hidden_size, batch_first=True, num_layers=num_layers, dropout=dropout)\n",
        "    def forward(self, x):\n",
        "        emb = self.emb_drop(self.embedding(x))\n",
        "        outputs, (h, c) = self.lstm(emb)\n",
        "        return outputs, h, c\n",
        "\n",
        "class Decoder(nn.Module):\n",
        "    def __init__(self, vocab_size, embed_size, hidden_size, pad_idx, num_layers=2, dropout=0.3):\n",
        "        super().__init__()\n",
        "        self.embedding = nn.Embedding(vocab_size, embed_size, padding_idx=pad_idx)\n",
        "        self.emb_drop = nn.Dropout(dropout)\n",
        "        self.lstm = nn.LSTM(embed_size, hidden_size, batch_first=True, num_layers=num_layers, dropout=dropout)\n",
        "    def forward(self, x, h, c):\n",
        "        emb = self.emb_drop(self.embedding(x))\n",
        "        outputs, (h, c) = self.lstm(emb, (h, c))\n",
        "        return outputs, h, c\n",
        "\n",
        "class Attention_dot(nn.Module):\n",
        "    def __init__(self, hidden_size):\n",
        "        super().__init__()\n",
        "    def forward(self, dec_out, enc_out):\n",
        "        attn = torch.bmm(dec_out, enc_out.transpose(1,2))\n",
        "        attn = F.softmax(attn, dim=-1)\n",
        "        ctx = torch.bmm(attn, enc_out)\n",
        "        return ctx\n",
        "\n",
        "class Seq2SeqWithAttention(nn.Module):\n",
        "    def __init__(self, encoder, decoder, vocab_size, hidden_size, dropout=0.3):\n",
        "        super().__init__()\n",
        "        self.encoder = encoder\n",
        "        self.decoder = decoder\n",
        "        self.attn = Attention_dot(hidden_size)\n",
        "        self.concat = nn.Linear(hidden_size*2, hidden_size)\n",
        "        self.out = nn.Linear(hidden_size, vocab_size)\n",
        "        self.drop = nn.Dropout(dropout)\n",
        "    def forward(self, enc_in, dec_in):\n",
        "        enc_out, h, c = self.encoder(enc_in)\n",
        "        dec_out, _, _ = self.decoder(dec_in, h, c)\n",
        "        ctx = self.attn(dec_out, enc_out)\n",
        "        x = torch.cat([dec_out, ctx], dim=-1)\n",
        "        x = torch.tanh(self.concat(self.drop(x)))\n",
        "        logits = self.out(self.drop(x))\n",
        "        return logits\n",
        "\n",
        "src_pad_idx = src_vocab[\"<PAD>\"]\n",
        "tar_pad_idx = tar_vocab[\"<PAD>\"]\n",
        "src_vocab_size = len(src_vocab)\n",
        "tar_vocab_size = len(tar_vocab)\n",
        "embed_size = 128\n",
        "hidden_size = 256\n",
        "\n",
        "encoder = Encoder(src_vocab_size, embed_size, hidden_size, src_pad_idx, num_layers=2, dropout=0.3)\n",
        "decoder = Decoder(tar_vocab_size, embed_size, hidden_size, tar_pad_idx, num_layers=2, dropout=0.3)\n",
        "model = Seq2SeqWithAttention(encoder, decoder, tar_vocab_size, hidden_size, dropout=0.3).to(device)\n",
        "\n",
        "BATCH = 64\n",
        "train_ds = TensorDataset(encoder_input_train, decoder_input_train, decoder_target_train)\n",
        "val_ds   = TensorDataset(encoder_input_test,  decoder_input_test,  decoder_target_test)\n",
        "train_loader = DataLoader(train_ds, batch_size=BATCH, shuffle=True)\n",
        "val_loader   = DataLoader(val_ds, batch_size=BATCH)\n",
        "\n",
        "criterion = nn.CrossEntropyLoss(ignore_index=tar_pad_idx, label_smoothing=0.1)\n",
        "optimizer = torch.optim.AdamW(model.parameters(), lr=1e-3, weight_decay=1e-4)\n",
        "\n",
        "best_val = float(\"inf\")\n",
        "patience = 3\n",
        "wait = 0\n",
        "history = {\"train_loss\": [], \"val_loss\": []}\n",
        "\n",
        "EPOCHS = 5\n",
        "for epoch in range(EPOCHS):\n",
        "    model.train()\n",
        "    tr = 0.0\n",
        "    for enc_in, dec_in, dec_tg in train_loader:\n",
        "        enc_in, dec_in, dec_tg = enc_in.to(device), dec_in.to(device), dec_tg.to(device)\n",
        "        optimizer.zero_grad()\n",
        "        logits = model(enc_in, dec_in)\n",
        "        loss = criterion(logits.view(-1, tar_vocab_size), dec_tg.view(-1))\n",
        "        loss.backward()\n",
        "        nn.utils.clip_grad_norm_(model.parameters(), 1.0)\n",
        "        optimizer.step()\n",
        "        tr += loss.item()\n",
        "    tr /= len(train_loader)\n",
        "\n",
        "    model.eval()\n",
        "    vl = 0.0\n",
        "    with torch.no_grad():\n",
        "        for enc_in, dec_in, dec_tg in val_loader:\n",
        "            enc_in, dec_in, dec_tg = enc_in.to(device), dec_in.to(device), dec_tg.to(device)\n",
        "            logits = model(enc_in, dec_in)\n",
        "            loss = criterion(logits.view(-1, tar_vocab_size), dec_tg.view(-1))\n",
        "            vl += loss.item()\n",
        "    vl /= len(val_loader)\n",
        "\n",
        "    history[\"train_loss\"].append(tr)\n",
        "    history[\"val_loss\"].append(vl)\n",
        "    print(f\"Epoch {epoch+1}/{EPOCHS} | Train {tr:.4f} | Val {vl:.4f}\")\n",
        "\n",
        "    if vl < best_val - 1e-4:\n",
        "        best_val = vl\n",
        "        wait = 0\n",
        "        best_state = {k:v.cpu().clone() for k,v in model.state_dict().items()}\n",
        "    else:\n",
        "        wait += 1\n",
        "        if wait >= patience:\n",
        "            print(\"Early stopping\")\n",
        "            break\n",
        "\n",
        "model.load_state_dict(best_state)\n"
      ],
      "metadata": {
        "colab": {
          "base_uri": "https://localhost:8080/"
        },
        "id": "kt6ki9NYELv7",
        "outputId": "344e1e89-e5a3-4c84-9107-e76c479a43a2"
      },
      "execution_count": 25,
      "outputs": [
        {
          "output_type": "stream",
          "name": "stdout",
          "text": [
            "Epoch 1/5 | Train 7.8677 | Val 7.3270\n",
            "Epoch 2/5 | Train 7.0940 | Val 6.7398\n",
            "Epoch 3/5 | Train 6.6612 | Val 6.4002\n",
            "Epoch 4/5 | Train 6.3564 | Val 6.1646\n",
            "Epoch 5/5 | Train 6.1199 | Val 5.9934\n"
          ]
        },
        {
          "output_type": "execute_result",
          "data": {
            "text/plain": [
              "<All keys matched successfully>"
            ]
          },
          "metadata": {},
          "execution_count": 25
        }
      ]
    },
    {
      "cell_type": "code",
      "source": [
        "\n",
        "plt.figure(figsize=(8,5))\n",
        "plt.plot(history[\"train_loss\"], label=\"Train Loss\")\n",
        "plt.plot(history[\"val_loss\"], label=\"Validation Loss\")\n",
        "plt.xlabel(\"Epoch\")\n",
        "plt.ylabel(\"Loss\")\n",
        "plt.title(\"Training & Validation Loss\")\n",
        "plt.legend()\n",
        "plt.grid(True)\n",
        "plt.show()"
      ],
      "metadata": {
        "colab": {
          "base_uri": "https://localhost:8080/",
          "height": 487
        },
        "id": "tAqr-7RB9m2C",
        "outputId": "75fab16c-70a2-4455-a590-fa3825f2fc90"
      },
      "execution_count": 26,
      "outputs": [
        {
          "output_type": "display_data",
          "data": {
            "text/plain": [
              "<Figure size 800x500 with 1 Axes>"
            ],
            "image/png": "[encoded data removed]"
          },
          "metadata": {}
        }
      ]
    },
    {
      "cell_type": "code",
      "source": [
        "src_index_to_word = {idx:w for w,idx in src_vocab.items()}\n",
        "tar_index_to_word = {idx:w for w,idx in tar_vocab.items()}\n",
        "pad_src = src_vocab[\"<PAD>\"]\n",
        "pad_tgt = tar_vocab[\"<PAD>\"]\n",
        "sos_id  = tar_vocab[\"sostoken\"]\n",
        "eos_id  = tar_vocab[\"eostoken\"]\n",
        "\n",
        "def seq2text(ids_row):\n",
        "    return \" \".join(src_index_to_word.get(int(t), \"<UNK>\") for t in ids_row if int(t) != pad_src)\n",
        "\n",
        "def seq2summary(ids_row):\n",
        "    keep = []\n",
        "    for t in ids_row:\n",
        "        t = int(t)\n",
        "        if t not in (pad_tgt, sos_id, eos_id):\n",
        "            keep.append(tar_index_to_word.get(t, \"<UNK>\"))\n",
        "    return \" \".join(keep)\n",
        "\n",
        "@torch.no_grad()\n",
        "def beam_search_decode(model, src_row, beam_size=3, max_len=headlines_max_len):\n",
        "    if src_row.dim() == 1:\n",
        "        src_row = src_row.unsqueeze(0)\n",
        "    src_row = src_row.to(device)\n",
        "    enc_out, h, c = model.encoder(src_row)\n",
        "    beams = [(0.0, [sos_id], h, c)]\n",
        "    for _ in range(max_len):\n",
        "        new_beams = []\n",
        "        for score, seq, h_i, c_i in beams:\n",
        "            last = torch.tensor([[seq[-1]]], device=device, dtype=torch.long)\n",
        "            dec_out, h_n, c_n = model.decoder(last, h_i, c_i)\n",
        "            ctx = model.attn(dec_out, enc_out)\n",
        "            x = torch.cat([dec_out, ctx], dim=-1)\n",
        "            x = torch.tanh(model.concat(x))\n",
        "            logits = model.out(x)[0, -1, :]\n",
        "            logp = F.log_softmax(logits, dim=-1)\n",
        "            topk = torch.topk(logp, beam_size)\n",
        "            for lp, idx in zip(topk.values.tolist(), topk.indices.tolist()):\n",
        "                new_seq = seq + [idx]\n",
        "                new_score = score + lp\n",
        "                new_beams.append((new_score, new_seq, h_n, c_n))\n",
        "        beams = sorted(new_beams, key=lambda x: x[0], reverse=True)[:beam_size]\n",
        "        if any(seq[-1] == eos_id for _, seq, _, _ in beams):\n",
        "            break\n",
        "    best = max(beams, key=lambda x: x[0])[1]\n",
        "    out = []\n",
        "    for t in best:\n",
        "        if t in (sos_id, eos_id, pad_tgt):\n",
        "            continue\n",
        "        out.append(tar_index_to_word.get(t, \"<UNK>\"))\n",
        "    return \" \".join(out)\n",
        "\n",
        "N = 5\n",
        "start = 50\n",
        "for i in range(start, start + N):\n",
        "    src_row = encoder_input_test[i]\n",
        "    tgt_row = decoder_target_test[i]\n",
        "    original_text = seq2text(src_row)\n",
        "    reference_summary = seq2summary(tgt_row)\n",
        "    predicted_summary = beam_search_decode(model, src_row, beam_size=3, max_len=headlines_max_len)\n",
        "    print(f\"\\n=== SAMPLE {i} ===\")\n",
        "    print(\"[Original Text]\\n\", original_text)\n",
        "    print(\"[Reference Summary]\\n\", reference_summary)\n",
        "    print(\"[Predicted Summary]\\n\", predicted_summary)\n"
      ],
      "metadata": {
        "colab": {
          "base_uri": "https://localhost:8080/"
        },
        "id": "izVvhy-tOXuw",
        "outputId": "3926ce01-6c72-48cf-ef89-ce2b60e728d2"
      },
      "execution_count": 29,
      "outputs": [
        {
          "output_type": "stream",
          "name": "stdout",
          "text": [
            "\n",
            "=== SAMPLE 50 ===\n",
            "[Original Text]\n",
            " us president donald trump monday said willing meet iranian president hassan rouhani without preconditions want meet meet meet anybody believe meetings added response advisor rouhani said returning nuclear deal respecting iranian nation rights would pave way talks\n",
            "[Reference Summary]\n",
            " willing to talk to iran prez without <UNK> trump\n",
            "[Predicted Summary]\n",
            " will not be ready to end iran president trump\n",
            "\n",
            "=== SAMPLE 51 ===\n",
            "[Original Text]\n",
            " rbi revised know customer guidelines making aadhaar key conducting customer due diligence banks finance companies rbi discarded sections relating use officially valid documents lenders address identity proof however new norms subject final judgment supreme court aadhaar\n",
            "[Reference Summary]\n",
            " rbi revises kyc norms makes aadhaar bank linkage must\n",
            "[Predicted Summary]\n",
            " rbi asks aadhaar to ban aadhaar aadhaar for aadhaar\n",
            "\n",
            "=== SAMPLE 52 ===\n",
            "[Original Text]\n",
            " almost seven years bjp leaders barring attended dinner hosted bihar cm nitish kumar residence monday nitish cancelled dinner bjp national leadership photographs showing holding hands gujarat cm narendra modi appeared newspapers\n",
            "[Reference Summary]\n",
            " bjp leaders attend dinner hosted by cm nitish kumar\n",
            "[Predicted Summary]\n",
            " bjp leader meets bihar cm nitish kumar after years\n",
            "\n",
            "=== SAMPLE 53 ===\n",
            "[Original Text]\n",
            " google ceo sundar pichai reportedly met pentagon officials last week discuss ai based drone project maven google employees earlier signed petition revoke contract demanding clear policy stating neither google contractors ever build warfare technology google said renew project expires\n",
            "[Reference Summary]\n",
            " pichai met pentagon officials over ai drone project report\n",
            "[Predicted Summary]\n",
            " google ceo ceo ceo resigns for illegal food\n",
            "\n",
            "=== SAMPLE 54 ===\n",
            "[Original Text]\n",
            " samajwadi party decided support bahujan samaj party candidate upcoming uttar pradesh legislative council elections elections held april results announced day earlier two parties allied bypolls lok sabha seats gorakhpur phulpur\n",
            "[Reference Summary]\n",
            " sp to support bsp candidate in up legislative council polls\n",
            "[Predicted Summary]\n",
            " samajwadi party to contest elections in up elections\n"
          ]
        }
      ]
    },
    {
      "cell_type": "code",
      "source": [
        "import pandas as pd\n",
        "from summa.summarizer import summarize\n",
        "\n",
        "raw = pd.read_csv(\"news_summary_more.csv\", encoding=\"iso-8859-1\")[[\"text\",\"headlines\"]].drop_duplicates(subset=\"text\")\n",
        "for i in range(5):\n",
        "    t = str(raw[\"text\"].iloc[i])\n",
        "    print(\"\\n[Original]\\n\", t[:800])\n",
        "    print(\"[Extractive]\\n\", summarize(t, ratio=0.2) or summarize(t, words=60))\n"
      ],
      "metadata": {
        "colab": {
          "base_uri": "https://localhost:8080/"
        },
        "id": "KjCZ-CYiCFiu",
        "outputId": "c28801f6-4a89-4fc0-b796-c50663086d59"
      },
      "execution_count": 28,
      "outputs": [
        {
          "output_type": "stream",
          "name": "stdout",
          "text": [
            "\n",
            "[Original]\n",
            " Saurav Kant, an alumnus of upGrad and IIIT-B's PG Program in Machine learning and Artificial Intelligence, was a Sr Systems Engineer at Infosys with almost 5 years of work experience. The program and upGrad's 360-degree career support helped him transition to a Data Scientist at Tech Mahindra with 90% salary hike. upGrad's Online Power Learning has powered 3 lakh+ careers.\n",
            "[Extractive]\n",
            " Saurav Kant, an alumnus of upGrad and IIIT-B's PG Program in Machine learning and Artificial Intelligence, was a Sr Systems Engineer at Infosys with almost 5 years of work experience.\n",
            "The program and upGrad's 360-degree career support helped him transition to a Data Scientist at Tech Mahindra with 90% salary hike.\n",
            "upGrad's Online Power Learning has powered 3 lakh+ careers.\n",
            "\n",
            "[Original]\n",
            " Kunal Shah's credit card bill payment platform, CRED, gave users a chance to win free food from Swiggy for one year. Pranav Kaushik, a Delhi techie, bagged this reward after spending 2000 CRED coins. Users get one CRED coin per rupee of bill paid, which can be used to avail rewards from brands like Ixigo, BookMyShow, UberEats, Cult.Fit and more.\n",
            "[Extractive]\n",
            " Kunal Shah's credit card bill payment platform, CRED, gave users a chance to win free food from Swiggy for one year.\n",
            "Pranav Kaushik, a Delhi techie, bagged this reward after spending 2000 CRED coins.\n",
            "Users get one CRED coin per rupee of bill paid, which can be used to avail rewards from brands like Ixigo, BookMyShow, UberEats, Cult.Fit and more.\n",
            "\n",
            "[Original]\n",
            " New Zealand defeated India by 8 wickets in the fourth ODI at Hamilton on Thursday to win their first match of the five-match ODI series. India lost an international match under Rohit Sharma's captaincy after 12 consecutive victories dating back to March 2018. The match witnessed India getting all out for 92, their seventh lowest total in ODI cricket history.\n",
            "[Extractive]\n",
            " New Zealand defeated India by 8 wickets in the fourth ODI at Hamilton on Thursday to win their first match of the five-match ODI series.\n",
            "India lost an international match under Rohit Sharma's captaincy after 12 consecutive victories dating back to March 2018.\n",
            "The match witnessed India getting all out for 92, their seventh lowest total in ODI cricket history.\n",
            "\n",
            "[Original]\n",
            " With Aegon Life iTerm Insurance plan, customers can enjoy tax benefits on your premiums paid and save up to Ã¢ÂÂ¹46,800^ on taxes. The plan provides life cover up to the age of 100 years. Also, customers have options to insure against Critical Illnesses, Disability and Accidental Death Benefit Rider with a life cover up to the age of 80 years.\n",
            "[Extractive]\n",
            " With Aegon Life iTerm Insurance plan, customers can enjoy tax benefits on your premiums paid and save up to Ã¢ÂÂ¹46,800^ on taxes.\n",
            "The plan provides life cover up to the age of 100 years.\n",
            "Also, customers have options to insure against Critical Illnesses, Disability and Accidental Death Benefit Rider with a life cover up to the age of 80 years.\n",
            "\n",
            "[Original]\n",
            " Speaking about the sexual harassment allegations against Rajkumar Hirani, Sonam Kapoor said, \"I've known Hirani for many years...What if it's not true, the [#MeToo] movement will get derailed.\" \"In the #MeToo movement, I always believe a woman. But in this case, we need to reserve our judgment,\" she added. Hirani has been accused by an assistant who worked in 'Sanju'.\n",
            "[Extractive]\n",
            " Speaking about the sexual harassment allegations against Rajkumar Hirani, Sonam Kapoor said, \"I've known Hirani for many years...What if it's not true, the [#MeToo] movement will get derailed.\" \"In the #MeToo movement, I always believe a woman.\n",
            "But in this case, we need to reserve our judgment,\" she added.\n",
            "Hirani has been accused by an assistant who worked in 'Sanju'.\n"
          ]
        }
      ]
    },
    {
      "cell_type": "markdown",
      "source": [
        "회고\n",
        "전처리(정제, 정규화, 불용어 제거, 데이터 분리, 인코딩)가 체계적으로 완료됨.\n",
        "\n",
        "LSTM+Attention 기반 Abstractive 모델이 학습되었고, train loss와 val loss가 전반적으로 감소.\n",
        "\n",
        "예측 요약문이 실제 요약문의 핵심 단어를 일부 포함했으나 문법 완성도와 정보 보존 측면에서 한계 존재.\n",
        "\n",
        "Extractive 요약과 비교 시, 문법은 Extractive가 우수하나 문장 재구성 능력은 Abstractive가 강점.\n"
      ],
      "metadata": {
        "id": "ePh5WOdtPidp"
      }
    }
  ]
}